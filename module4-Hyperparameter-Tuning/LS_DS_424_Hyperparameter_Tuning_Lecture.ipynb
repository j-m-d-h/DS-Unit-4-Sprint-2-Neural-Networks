{
 "cells": [
  {
   "cell_type": "markdown",
   "metadata": {
    "colab_type": "text",
    "id": "41TS0Sa0rDNx"
   },
   "source": [
    "Lambda School Data Science\n",
    "\n",
    "*Unit 4, Sprint 2, Module 4*\n",
    "\n",
    "---"
   ]
  },
  {
   "cell_type": "markdown",
   "metadata": {
    "colab_type": "text",
    "id": "41TS0Sa0rDNx"
   },
   "source": [
    "# Neural Networks & GPUs (Prepare)\n",
    "*aka Hyperparameter Tuning*\n",
    "\n",
    "*aka Big Servers for Big Problems*"
   ]
  },
  {
   "cell_type": "markdown",
   "metadata": {
    "colab_type": "text",
    "id": "41TS0Sa0rDNx"
   },
   "source": [
    "## Learning Objectives\n",
    "* <a href=\"#p1\">Part 1</a>: Describe the major hyperparemeters to tune\n",
    "* <a href=\"#p2\">Part 2</a>: Implement an experiment tracking framework\n",
    "* <a href=\"#p3\">Part 3</a>: Search the hyperparameter space using RandomSearch (Optional)"
   ]
  },
  {
   "cell_type": "code",
   "execution_count": 3,
   "metadata": {},
   "outputs": [],
   "source": [
    "wandb_group = \"ds8\"\n",
    "wandb_project = \"inclass\""
   ]
  },
  {
   "cell_type": "markdown",
   "metadata": {},
   "source": [
    "# Hyperparameter Options (Learn)\n",
    "<a id=\"p1\"></a>"
   ]
  },
  {
   "cell_type": "markdown",
   "metadata": {},
   "source": [
    "## Overview\n",
    "\n",
    "Hyperparameter tuning is much more important with neural networks than it has been with any other models that we have considered up to this point. Other supervised learning models might have a couple of parameters, but neural networks can have dozens. These can substantially affect the accuracy of our models and although it can be a time consuming process is a necessary step when working with neural networks.\n",
    "​\n",
    "Hyperparameter tuning comes with a challenge. How can we compare models specified with different hyperparameters if our model's final error metric can vary somewhat erratically? How do we avoid just getting unlucky and selecting the wrong hyperparameter? This is a problem that to a certain degree we just have to live with as we test and test again. However, we can minimize it somewhat by pairing our experiments with Cross Validation to reduce the variance of our final accuracy values."
   ]
  },
  {
   "cell_type": "markdown",
   "metadata": {
    "colab_type": "text",
    "id": "0s0o2pqBs88q"
   },
   "source": [
    "### Load Boston Housing Data"
   ]
  },
  {
   "cell_type": "code",
   "execution_count": 4,
   "metadata": {},
   "outputs": [],
   "source": [
    "from tensorflow.keras.datasets import boston_housing\n",
    "\n",
    "(x_train, y_train), (x_test, y_test) = boston_housing.load_data()"
   ]
  },
  {
   "cell_type": "markdown",
   "metadata": {
    "colab_type": "text",
    "id": "Pm7zow5IvaTt"
   },
   "source": [
    "### Normalizing Input Data\n",
    "\n",
    "It's not 100% necessary to normalize/scale your input data before feeding it to a neural network, the network can learn the appropriate weights to deal with data of as long as it is numerically represented,  but it is recommended as it can help **make training faster** and **reduces the chances that gradient descent might get stuck in a local optimum**.\n",
    "\n",
    "<https://stackoverflow.com/questions/4674623/why-do-we-have-to-normalize-the-input-for-an-artificial-neural-network>"
   ]
  },
  {
   "cell_type": "code",
   "execution_count": 5,
   "metadata": {},
   "outputs": [
    {
     "name": "stdout",
     "output_type": "stream",
     "text": [
      "[[-0.27224633 -0.48361547 -0.43576161 -0.25683275 -0.1652266  -0.1764426\n",
      "   0.81306188  0.1166983  -0.62624905 -0.59517003  1.14850044  0.44807713\n",
      "   0.8252202 ]\n",
      " [-0.40342651  2.99178419 -1.33391162 -0.25683275 -1.21518188  1.89434613\n",
      "  -1.91036058  1.24758524 -0.85646254 -0.34843254 -1.71818909  0.43190599\n",
      "  -1.32920239]\n",
      " [ 0.1249402  -0.48361547  1.0283258  -0.25683275  0.62864202 -1.82968811\n",
      "   1.11048828 -1.18743907  1.67588577  1.5652875   0.78447637  0.22061726\n",
      "  -1.30850006]\n",
      " [-0.40149354 -0.48361547 -0.86940196 -0.25683275 -0.3615597  -0.3245576\n",
      "  -1.23667187  1.10717989 -0.51114231 -1.094663    0.78447637  0.44807713\n",
      "  -0.65292624]\n",
      " [-0.0056343  -0.48361547  1.0283258  -0.25683275  1.32861221  0.15364225\n",
      "   0.69480801 -0.57857203  1.67588577  1.5652875   0.78447637  0.3898823\n",
      "   0.26349695]\n",
      " [-0.37502238 -0.48361547 -0.54747912 -0.25683275 -0.54935658 -0.78865126\n",
      "   0.18954148  0.48371503 -0.51114231 -0.71552978  0.51145832  0.38669063\n",
      "  -0.13812828]\n",
      " [ 0.58963463 -0.48361547  1.0283258  -0.25683275  1.21764133 -1.03127774\n",
      "   1.11048828 -1.06518235  1.67588577  1.5652875   0.78447637  0.44807713\n",
      "   1.49873604]\n",
      " [ 0.0381708  -0.48361547  1.24588095 -0.25683275  2.67733525 -1.12719983\n",
      "   1.11048828 -1.14833073 -0.51114231 -0.01744323 -1.71818909  0.44807713\n",
      "   1.88793986]\n",
      " [-0.17228416 -0.48361547  1.24588095 -0.25683275  2.67733525 -0.90150078\n",
      "   1.11048828 -1.09664657 -0.51114231 -0.01744323 -1.71818909 -1.97365769\n",
      "   0.53952803]\n",
      " [-0.22932104 -0.48361547  1.58544339 -0.25683275  0.56888847 -1.76056777\n",
      "   1.11048828 -1.13471925 -0.62624905  0.18716835  1.23950646  0.44807713\n",
      "   2.99068404]]\n"
     ]
    }
   ],
   "source": [
    "from sklearn.preprocessing import StandardScaler\n",
    "\n",
    "scaler = StandardScaler()\n",
    "\n",
    "x_train = scaler.fit_transform(x_train)\n",
    "x_test = scaler.transform(x_test)\n",
    "print(x_train[:10])"
   ]
  },
  {
   "cell_type": "markdown",
   "metadata": {
    "colab_type": "text",
    "id": "l6hgCWbir90R"
   },
   "source": [
    "### Model Validation using an automatic verification Dataset\n",
    "\n",
    "Instead of doing seperate train test split class, Keras has a really nice feature that you can set the validation.data argument when fitting your model and Keras will take that portion of your test data and use it as a validation dataset. "
   ]
  },
  {
   "cell_type": "code",
   "execution_count": 6,
   "metadata": {
    "colab": {
     "base_uri": "https://localhost:8080/",
     "height": 1750
    },
    "colab_type": "code",
    "id": "GMXVfmzXp1Oo",
    "outputId": "b05e251e-508f-46e6-865b-f869ae2a5dc4"
   },
   "outputs": [
    {
     "name": "stderr",
     "output_type": "stream",
     "text": [
      "WARNING: Logging before flag parsing goes to stderr.\n",
      "W0123 13:31:56.599683 29748 deprecation.py:506] From C:\\ProgramData\\Anaconda3\\envs\\U4-S2-NNF\\lib\\site-packages\\tensorflow\\python\\ops\\init_ops.py:1251: calling VarianceScaling.__init__ (from tensorflow.python.ops.init_ops) with dtype is deprecated and will be removed in a future version.\n",
      "Instructions for updating:\n",
      "Call initializer instance with the dtype argument instead of passing it to the constructor\n"
     ]
    },
    {
     "ename": "TypeError",
     "evalue": "'NoneType' object is not iterable",
     "output_type": "error",
     "traceback": [
      "\u001b[1;31m---------------------------------------------------------------------------\u001b[0m",
      "\u001b[1;31mTypeError\u001b[0m                                 Traceback (most recent call last)",
      "\u001b[1;32m<ipython-input-6-ca2a1412e3bb>\u001b[0m in \u001b[0;36m<module>\u001b[1;34m\u001b[0m\n\u001b[0;32m     22\u001b[0m           \u001b[0mvalidation_data\u001b[0m\u001b[1;33m=\u001b[0m\u001b[1;33m(\u001b[0m\u001b[0mx_test\u001b[0m\u001b[1;33m,\u001b[0m\u001b[0my_test\u001b[0m\u001b[1;33m)\u001b[0m\u001b[1;33m,\u001b[0m\u001b[1;33m\u001b[0m\u001b[0m\n\u001b[0;32m     23\u001b[0m           \u001b[0mepochs\u001b[0m\u001b[1;33m=\u001b[0m\u001b[0mepochs\u001b[0m\u001b[1;33m,\u001b[0m\u001b[1;33m\u001b[0m\u001b[0m\n\u001b[1;32m---> 24\u001b[1;33m           \u001b[0mbatch_size\u001b[0m\u001b[1;33m=\u001b[0m\u001b[0mbatch_size\u001b[0m\u001b[1;33m\u001b[0m\u001b[0m\n\u001b[0m\u001b[0;32m     25\u001b[0m          )\n",
      "\u001b[1;32mC:\\ProgramData\\Anaconda3\\envs\\U4-S2-NNF\\lib\\site-packages\\tensorflow\\python\\keras\\engine\\training.py\u001b[0m in \u001b[0;36mfit\u001b[1;34m(self, x, y, batch_size, epochs, verbose, callbacks, validation_split, validation_data, shuffle, class_weight, sample_weight, initial_epoch, steps_per_epoch, validation_steps, validation_freq, max_queue_size, workers, use_multiprocessing, **kwargs)\u001b[0m\n\u001b[0;32m    778\u001b[0m           \u001b[0mvalidation_steps\u001b[0m\u001b[1;33m=\u001b[0m\u001b[0mvalidation_steps\u001b[0m\u001b[1;33m,\u001b[0m\u001b[1;33m\u001b[0m\u001b[0m\n\u001b[0;32m    779\u001b[0m           \u001b[0mvalidation_freq\u001b[0m\u001b[1;33m=\u001b[0m\u001b[0mvalidation_freq\u001b[0m\u001b[1;33m,\u001b[0m\u001b[1;33m\u001b[0m\u001b[0m\n\u001b[1;32m--> 780\u001b[1;33m           steps_name='steps_per_epoch')\n\u001b[0m\u001b[0;32m    781\u001b[0m \u001b[1;33m\u001b[0m\u001b[0m\n\u001b[0;32m    782\u001b[0m   def evaluate(self,\n",
      "\u001b[1;32mC:\\ProgramData\\Anaconda3\\envs\\U4-S2-NNF\\lib\\site-packages\\wandb\\keras\\__init__.py\u001b[0m in \u001b[0;36mnew_arrays\u001b[1;34m(*args, **kwargs)\u001b[0m\n\u001b[0;32m     92\u001b[0m         \u001b[1;31m# TODO: these could be generators, why index 0?\u001b[0m\u001b[1;33m\u001b[0m\u001b[1;33m\u001b[0m\u001b[0m\n\u001b[0;32m     93\u001b[0m         \u001b[1;32mif\u001b[0m \u001b[0mval_inputs\u001b[0m \u001b[1;32mand\u001b[0m \u001b[0mval_targets\u001b[0m\u001b[1;33m:\u001b[0m\u001b[1;33m\u001b[0m\u001b[0m\n\u001b[1;32m---> 94\u001b[1;33m             \u001b[1;32mfor\u001b[0m \u001b[0mcbk\u001b[0m \u001b[1;32min\u001b[0m \u001b[0mcbks\u001b[0m\u001b[1;33m:\u001b[0m\u001b[1;33m\u001b[0m\u001b[0m\n\u001b[0m\u001b[0;32m     95\u001b[0m                 \u001b[0mset_wandb_attrs\u001b[0m\u001b[1;33m(\u001b[0m\u001b[0mcbk\u001b[0m\u001b[1;33m,\u001b[0m \u001b[1;33m(\u001b[0m\u001b[0mval_inputs\u001b[0m\u001b[1;33m[\u001b[0m\u001b[1;36m0\u001b[0m\u001b[1;33m]\u001b[0m\u001b[1;33m,\u001b[0m \u001b[0mval_targets\u001b[0m\u001b[1;33m[\u001b[0m\u001b[1;36m0\u001b[0m\u001b[1;33m]\u001b[0m\u001b[1;33m)\u001b[0m\u001b[1;33m)\u001b[0m\u001b[1;33m\u001b[0m\u001b[0m\n\u001b[0;32m     96\u001b[0m         \u001b[1;32mreturn\u001b[0m \u001b[0mold_arrays\u001b[0m\u001b[1;33m(\u001b[0m\u001b[1;33m*\u001b[0m\u001b[0margs\u001b[0m\u001b[1;33m,\u001b[0m \u001b[1;33m**\u001b[0m\u001b[0mkwargs\u001b[0m\u001b[1;33m)\u001b[0m\u001b[1;33m\u001b[0m\u001b[0m\n",
      "\u001b[1;31mTypeError\u001b[0m: 'NoneType' object is not iterable"
     ]
    }
   ],
   "source": [
    "from tensorflow import keras\n",
    "from tensorflow.keras.models import Sequential\n",
    "from tensorflow.keras.layers import Dense\n",
    "\n",
    "# Important Hyperparameters\n",
    "inputs = x_train.shape[1]\n",
    "epochs = 75\n",
    "batch_size = 10\n",
    "\n",
    "\n",
    "# Create Model\n",
    "model = Sequential()\n",
    "model.add(Dense(64, activation='relu', input_shape=(inputs,)))\n",
    "model.add(Dense(64, activation='relu'))\n",
    "model.add(Dense(1))\n",
    "\n",
    "# Compile Model\n",
    "model.compile(optimizer='adam', loss='mse', metrics=['mse', 'mae'])\n",
    "\n",
    "# Fit Model\n",
    "model.fit(x_train, y_train, \n",
    "          validation_data=(x_test,y_test), \n",
    "          epochs=epochs, \n",
    "          batch_size=batch_size\n",
    "         )"
   ]
  },
  {
   "cell_type": "markdown",
   "metadata": {
    "colab_type": "text",
    "id": "sYJ8t_ezHP4W"
   },
   "source": [
    "### Hyperparameter Tuning Approaches:\n",
    "\n",
    "#### 1) Babysitting AKA \"Grad Student Descent\".\n",
    "\n",
    "If you fiddled with any hyperparameters yesterday, this is basically what you did. This approach is 100% manual and is pretty common among researchers where finding that 1 exact specification that jumps your model to a level of accuracy never seen before is the difference between publishing and not publishing a paper. Of course the professors don't do this themselves, that's grunt work. This is also known as the fiddle with hyperparameters until you run out of time method.\n",
    "\n",
    "#### 2) Grid Search\n",
    "\n",
    "Grid Search is the Grad Student galaxy brain realization of: why don't I just specify all the experiments I want to run and let the computer try every possible combination of them while I go and grab lunch. This has a specific downside in that if I specify 5 hyperparameters with 5 options each then I've just created 5^5 combinations of hyperparameters to check. Which means that I have to train 3125 different versions of my model Then if I use 5-fold Cross Validation on that then my model has to run 15,525 times. This is the brute-force method of hyperparameter tuning, but it can be very profitable if done wisely. \n",
    "\n",
    "When using Grid Search here's what I suggest: don't use it to test combinations of different hyperparameters, only use it to test different specifications of **a single** hyperparameter. It's rare that combinations between different hyperparameters lead to big performance gains. You'll get 90-95% of the way there if you just Grid Search one parameter and take the best result, then retain that best result while you test another, and then retain the best specification from that while you train another. This at least makes the situation much more manageable and leads to pretty good results. \n",
    "\n",
    "#### 3) Random Search\n",
    "\n",
    "Do Grid Search for a couple of hours and you'll say to yourself - \"There's got to be a better way.\" Enter Random Search. For Random search you specify a hyperparameter space and it picks specifications from that randomly, tries them out, gives you the best results and says - That's going to have to be good enough, go home and spend time with your family. \n",
    "\n",
    "Grid Search treats every parameter as if it was equally important, but this just isn't the case, some are known to move the needle a lot more than others (we'll talk about that in a minute). Random Search allows searching to be specified along the most important parameter and experiments less along the dimensions of less important hyperparameters. The downside of Random search is that it won't find the absolute best hyperparameters, but it is much less costly to perform than Grid Search. \n",
    "\n",
    "#### 4) Bayesian Methods\n",
    "\n",
    "One thing that can make more manual methods like babysitting and gridsearch effective is that as the experimenter sees results he can then make updates to his future searches taking into account the results of past specifications. If only we could hyperparameter tune our hyperparameter tuning. Well, we kind of can. Enter Bayesian Optimization. Neural Networks are like an optimization problem within an optimization problem, and Bayesian Optimization is a search strategy that tries to take into account the results of past searches in order to improve future ones. This is the most advanced method but can be a little bit tricky to implement, but there are some early steps with `hyperas` which is Bayesian optimization wrapper for `keras`. "
   ]
  },
  {
   "cell_type": "markdown",
   "metadata": {
    "colab_type": "text",
    "id": "HfQ7D043OMMn"
   },
   "source": [
    "## What Hyperparameters are there to test?\n",
    "\n",
    "- batch_size\n",
    "- training epochs\n",
    "- optimization algorithms\n",
    "- learning rate\n",
    "- momentum\n",
    "- activation functions\n",
    "- dropout regularization\n",
    "- number of neurons in the hidden layer\n",
    "\n",
    "There are more, but these are the most important."
   ]
  },
  {
   "cell_type": "markdown",
   "metadata": {},
   "source": [
    "## Follow Along"
   ]
  },
  {
   "cell_type": "markdown",
   "metadata": {
    "colab_type": "text",
    "id": "Mri5-kXzVKAa"
   },
   "source": [
    "## Batch Size\n",
    "\n",
    "Batch size determines how many observations the model is shown before it calculates loss/error and updates the model weights via gradient descent. You're looking for a sweet spot here where you're showing it enough observations that you have enough information to updates the weights, but not such a large batch size that you don't get a lot of weight update iterations performed in a given epoch. Feed-forward Neural Networks aren't as sensitive to bach_size as other networks, but it is still an important hyperparameter to tune. Smaller batch sizes will also take longer to train. "
   ]
  },
  {
   "cell_type": "code",
   "execution_count": 7,
   "metadata": {
    "colab": {
     "base_uri": "https://localhost:8080/",
     "height": 13561
    },
    "colab_type": "code",
    "id": "2smXfriNAGn7",
    "outputId": "ae996575-78e2-43fb-9dbe-5d44aaf0b430"
   },
   "outputs": [
    {
     "name": "stderr",
     "output_type": "stream",
     "text": [
      "W0123 13:32:41.029052 29748 deprecation.py:323] From C:\\ProgramData\\Anaconda3\\envs\\U4-S2-NNF\\lib\\site-packages\\tensorflow\\python\\ops\\nn_impl.py:180: add_dispatch_support.<locals>.wrapper (from tensorflow.python.ops.array_ops) is deprecated and will be removed in a future version.\n",
      "Instructions for updating:\n",
      "Use tf.where in 2.0, which has the same broadcast rule as np.where\n",
      "C:\\ProgramData\\Anaconda3\\envs\\U4-S2-NNF\\lib\\site-packages\\sklearn\\model_selection\\_search.py:813: DeprecationWarning: The default of the `iid` parameter will change from True to False in version 0.22 and will be removed in 0.24. This will change numeric results when test-set sizes are unequal.\n",
      "  DeprecationWarning)\n"
     ]
    },
    {
     "name": "stdout",
     "output_type": "stream",
     "text": [
      "Best: 0.6432291716337204 using {'batch_size': 10, 'epochs': 20}\n",
      "Means: 0.6432291716337204, Stdev: 0.03941603227192391 with: {'batch_size': 10, 'epochs': 20}\n",
      "Means: 0.6250000174622983, Stdev: 0.05886315831701945 with: {'batch_size': 20, 'epochs': 20}\n",
      "Means: 0.6250000071401397, Stdev: 0.04223050711440435 with: {'batch_size': 40, 'epochs': 20}\n",
      "Means: 0.6432291700039059, Stdev: 0.06799620666076475 with: {'batch_size': 60, 'epochs': 20}\n",
      "Means: 0.5989583501747499, Stdev: 0.08078131472004026 with: {'batch_size': 80, 'epochs': 20}\n",
      "Means: 0.5494791712456694, Stdev: 0.048239581804148994 with: {'batch_size': 100, 'epochs': 20}\n"
     ]
    }
   ],
   "source": [
    "import numpy\n",
    "import pandas as pd\n",
    "from sklearn.model_selection import GridSearchCV\n",
    "from tensorflow.keras.models import Sequential\n",
    "from tensorflow.keras.layers import Dense\n",
    "from tensorflow.keras.wrappers.scikit_learn import KerasClassifier\n",
    "\n",
    "# fix random seed for reproducibility\n",
    "seed = 7\n",
    "numpy.random.seed(seed)\n",
    "\n",
    "# load dataset\n",
    "url =\"https://raw.githubusercontent.com/jbrownlee/Datasets/master/pima-indians-diabetes.data.csv\"\n",
    "\n",
    "dataset = pd.read_csv(url, header=None).values\n",
    "\n",
    "# split into input (X) and output (Y) variables\n",
    "X = dataset[:,0:8]\n",
    "Y = dataset[:,8]\n",
    "\n",
    "# Function to create model, required for KerasClassifier\n",
    "def create_model():\n",
    "    # create model\n",
    "    model = Sequential()\n",
    "    model.add(Dense(12, input_dim=8, activation='relu'))\n",
    "    model.add(Dense(1, activation='sigmoid'))\n",
    "    # Compile model\n",
    "    model.compile(loss='binary_crossentropy', optimizer='adam', metrics=['accuracy'])\n",
    "    return model\n",
    "\n",
    "# create model\n",
    "model = KerasClassifier(build_fn=create_model, verbose=0)\n",
    "\n",
    "# define the grid search parameters\n",
    "# batch_size = [10, 20, 40, 60, 80, 100]\n",
    "# param_grid = dict(batch_size=batch_size, epochs=epochs)\n",
    "\n",
    "# define the grid search parameters\n",
    "param_grid = {'batch_size': [10, 20, 40, 60, 80, 100],\n",
    "              'epochs': [20]}\n",
    "\n",
    "# Create Grid Search\n",
    "grid = GridSearchCV(estimator=model, param_grid=param_grid, cv=5, n_jobs=1)\n",
    "grid_result = grid.fit(X, Y)\n",
    "\n",
    "# Report Results\n",
    "print(f\"Best: {grid_result.best_score_} using {grid_result.best_params_}\")\n",
    "means = grid_result.cv_results_['mean_test_score']\n",
    "stds = grid_result.cv_results_['std_test_score']\n",
    "params = grid_result.cv_results_['params']\n",
    "for mean, stdev, param in zip(means, stds, params):\n",
    "    print(f\"Means: {mean}, Stdev: {stdev} with: {param}\") "
   ]
  },
  {
   "cell_type": "markdown",
   "metadata": {
    "colab_type": "text",
    "id": "pmABfjlvXbqi"
   },
   "source": [
    "## Epochs\n",
    "\n",
    "The number of training epochs has a large and direct affect on the accuracy, However, more epochs is almost always goign to better than less epochs. This means that if you tune this parameter at the beginning and try and maintain the same value all throughout your training, you're going to be waiting a long time for each iteration of GridSearch. I suggest picking a fixed moderat # of epochs all throughout your training and then Grid Searching this parameter at the very end. "
   ]
  },
  {
   "cell_type": "code",
   "execution_count": null,
   "metadata": {
    "colab": {
     "base_uri": "https://localhost:8080/",
     "height": 26329
    },
    "colab_type": "code",
    "id": "bAmxP3N7TmFh",
    "outputId": "3ddb08c4-51ac-4eaa-ff39-143397024544"
   },
   "outputs": [],
   "source": [
    "# define the grid search parameters\n",
    "param_grid = {'batch_size': [10],\n",
    "              'epochs': [20, 40, 60,200]}\n",
    "\n",
    "# Create Grid Search\n",
    "grid = GridSearchCV(estimator=model, param_grid=param_grid, n_jobs=1)\n",
    "grid_result = grid.fit(X, Y)\n",
    "\n",
    "# Report Results\n",
    "print(f\"Best: {grid_result.best_score_} using {grid_result.best_params_}\")\n",
    "means = grid_result.cv_results_['mean_test_score']\n",
    "stds = grid_result.cv_results_['std_test_score']\n",
    "params = grid_result.cv_results_['params']\n",
    "for mean, stdev, param in zip(means, stds, params):\n",
    "    print(f\"Means: {mean}, Stdev: {stdev} with: {param}\")"
   ]
  },
  {
   "cell_type": "markdown",
   "metadata": {
    "colab_type": "text",
    "id": "EKcuY6OiaLfz"
   },
   "source": [
    "## Optimizer\n",
    "\n",
    "Remember that there's a different optimizers [optimizers](https://keras.io/optimizers/). At some point, take some time to read up on them a little bit. \"adam\" usually gives the best results. The thing to know about choosing an optimizer is that different optimizers have different hyperparameters like learning rate, momentum, etc. So based on the optimizer you choose you might also have to tune the learning rate and momentum of those optimizers after that. "
   ]
  },
  {
   "cell_type": "markdown",
   "metadata": {
    "colab_type": "text",
    "id": "DG3wq5iOaLig"
   },
   "source": [
    "## Learning Rate\n",
    "\n",
    "Remember that the Learning Rate is a hyperparameter that is specific to your gradient-descent based optimizer selection. A learning rate that is too high will cause divergent behavior, but a Learning Rate that is too low will fail to converge, again, you're looking for the sweet spot. I would start out tuning learning rates by orders of magnitude: [.001, .01, .1, .2, .3, .5] etc. I wouldn't go above .5, but you can try it and see what the behavior is like. \n",
    "\n",
    "Once you have narrowed it down, make the window even smaller and try it again. If after running the above specification your model reports that .1 is the best optimizer, then you should probably try things like [.05, .08, .1, .12, .15] to try and narrow it down. \n",
    "\n",
    "It can also be good to tune the number of epochs in combination with the learning rate since the number of iterations that you allow the learning rate to reach the minimum can determine if you have let it run long enough to converge to the minimum. "
   ]
  },
  {
   "cell_type": "markdown",
   "metadata": {
    "colab_type": "text",
    "id": "gNTBUWd1aLlA"
   },
   "source": [
    "## Momentum\n",
    "\n",
    "Momentum is a hyperparameter that is more commonly associated with Stochastic Gradient Descent. SGD is a common optimizer because it's what people understand and know, but I doubt it will get you the best results, you can try hyperparameter tuning its attributes and see if you can beat the performance from adam. Momentum is a property that decides the willingness of an optimizer to overshoot the minimum. Imagine a ball rolling down one side of a bowl and then up the opposite side a little bit before settling back to the bottom. The purpose of momentum is to try and escale local minima."
   ]
  },
  {
   "cell_type": "markdown",
   "metadata": {
    "colab_type": "text",
    "id": "xnEG-bCJaLnZ"
   },
   "source": [
    "## Activation Functions\n",
    "\n",
    "We've talked about this a little bit, typically you'l want to use ReLU for hidden layers and either Sigmoid, or Softmax for output layers of binary and multi-class classification implementations respectively, but try other activation functions and see if you can get any better results with sigmoid or tanh or something. There are a lot of activation functions that we haven't really talked about. Maybe you'll get good results with them. Maybe you won't. :) <https://keras.io/activations/>"
   ]
  },
  {
   "cell_type": "markdown",
   "metadata": {
    "colab_type": "text",
    "id": "oul9sPq-dU-h"
   },
   "source": [
    "## Network Weight Initialization\n",
    "\n",
    "You saw how big of an effect the way that we initialize our network's weights can have on our results. There are **a lot** of what are called initialization modes. I don't understand all of them, but they can have a big affect on your model's initial accuracy. Your model will get further with less epochs if you initialize it with weights that are well suited to the problem you're trying to solve.\n",
    "\n",
    "`init_mode = ['uniform', 'lecun_uniform', 'normal', 'zero', 'glorot_normal', 'glorot_uniform', 'he_normal', 'he_uniform']`"
   ]
  },
  {
   "cell_type": "markdown",
   "metadata": {
    "colab_type": "text",
    "id": "bqtEuxeQaLqE"
   },
   "source": [
    "## Dropout Regularization and the Weight Constraint\n",
    "\n",
    "the Dropout Regularization value is a percentage of neurons that you want to be randomly deactivated during training. The weight constraint is a second regularization parameter that works in tandem with dropout regularization. You should tune these two values at the same time. \n",
    "\n",
    "Using dropout on visible vs hidden layers might have a different effect. Using dropout on hidden layers might not have any effect while using dropout on hidden layers might have a substantial effect. You don't necessarily need to turn use dropout unless you see that your model has overfitting and generalizability problems."
   ]
  },
  {
   "cell_type": "markdown",
   "metadata": {
    "colab_type": "text",
    "id": "P2c5Cv6oaLtO"
   },
   "source": [
    "## Neurons in Hidden Layer \n",
    "\n",
    "Remember that when we only had a single perceptron our model was only able to fit to linearly separable data, but as we have added layers and nodes to those layers our network has become a powerhouse of fitting nonlinearity in data. The larger the network and the more nodes generally the stronger the network's capacity to fit nonlinear patterns in data. The more nodes and layers the longer it will take to train a network, and higher the probability of overfitting. The larger your network gets the more you'll need dropout regularization or other regularization techniques to keep it in check. \n",
    "\n",
    "Typically depth (more layers) is more important than width (more nodes) for neural networks. This is part of why Deep Learning is so highly touted. Certain deep learning architectures have truly been huge breakthroughs for certain machine learning tasks. \n",
    "\n",
    "You might borrow ideas from other network architectures. For example if I was doing image recognition and I wasn't taking cues from state of the art architectures like resnet, alexnet, googlenet, etc. Then I'm probably going to have to do a lot more experimentation on my own before I find something that works.\n",
    "\n",
    "There are some heuristics, but I am highly skeptical of them. I think you're better off experimenting on your own and forming your own intuition for these kinds of problems. \n",
    "\n",
    "- https://machinelearningmastery.com/how-to-configure-the-number-of-layers-and-nodes-in-a-neural-network/"
   ]
  },
  {
   "cell_type": "markdown",
   "metadata": {},
   "source": [
    "## Challenge\n",
    "You will be expected to tune several hyperparameters in today's module project. "
   ]
  },
  {
   "cell_type": "markdown",
   "metadata": {},
   "source": [
    "# Experiment Tracking Framework (Learn)\n",
    "<a id=\"p2\"></a>"
   ]
  },
  {
   "cell_type": "markdown",
   "metadata": {},
   "source": [
    "## Overview\n",
    "\n",
    "You will notice quickly that managing the results of all the experiments you are running becomes challenging. Which set of parameters did the best? Are my results today different than my results yesterday? Although we use Ipython Notebooks to work, the format is not well suited to logging experimental results. Enter experiment tracking frameworks like [Comet.ml](https://comet.ml) and [Weights and Biases](https://wandb.ai/).\n",
    "\n",
    "Those tools will help you track your experiments, store the results, and the code associated with those experiments. Experimental results can also be readily visualized to see changes in performance across any metric you care about. Data is sent to the tool as each epoch is completed, so you can also see if your model is converging. Let's check out Weights & Biases today. "
   ]
  },
  {
   "cell_type": "markdown",
   "metadata": {},
   "source": [
    "## Follow Along\n",
    "\n",
    "Make sure you login into `wandb` in the terminal before running the next cell. "
   ]
  },
  {
   "cell_type": "code",
   "execution_count": 9,
   "metadata": {},
   "outputs": [
    {
     "data": {
      "text/html": [
       "\n",
       "                Logging results to <a href=\"https://wandb.com\" target=\"_blank\">Weights & Biases</a> <a href=\"https://docs.wandb.com/integrations/jupyter.html\" target=\"_blank\">(Documentation)</a>.<br/>\n",
       "                Project page: <a href=\"https://app.wandb.ai/ds8/ds9-boston\" target=\"_blank\">https://app.wandb.ai/ds8/ds9-boston</a><br/>\n",
       "                Run page: <a href=\"https://app.wandb.ai/ds8/ds9-boston/runs/ctkbc6iz\" target=\"_blank\">https://app.wandb.ai/ds8/ds9-boston/runs/ctkbc6iz</a><br/>\n",
       "            "
      ],
      "text/plain": [
       "<IPython.core.display.HTML object>"
      ]
     },
     "metadata": {},
     "output_type": "display_data"
    },
    {
     "name": "stderr",
     "output_type": "stream",
     "text": [
      "E0123 13:35:09.350798 29748 jupyter.py:96] Failed to query for notebook name, you can set it manually with the WANDB_NOTEBOOK_NAME environment variable\n"
     ]
    },
    {
     "data": {
      "text/plain": [
       "W&B Run: https://app.wandb.ai/ds8/ds9-boston/runs/ctkbc6iz"
      ]
     },
     "execution_count": 9,
     "metadata": {},
     "output_type": "execute_result"
    }
   ],
   "source": [
    "import wandb\n",
    "from wandb.keras import WandbCallback\n",
    "wandb.init(project=\"ds9-boston\", entity=\"ds8\")"
   ]
  },
  {
   "cell_type": "code",
   "execution_count": 13,
   "metadata": {
    "colab": {
     "base_uri": "https://localhost:8080/",
     "height": 1750
    },
    "colab_type": "code",
    "id": "GMXVfmzXp1Oo",
    "outputId": "b05e251e-508f-46e6-865b-f869ae2a5dc4"
   },
   "outputs": [
    {
     "data": {
      "text/html": [
       "\n",
       "                Logging results to <a href=\"https://wandb.com\" target=\"_blank\">Weights & Biases</a> <a href=\"https://docs.wandb.com/integrations/jupyter.html\" target=\"_blank\">(Documentation)</a>.<br/>\n",
       "                Project page: <a href=\"https://app.wandb.ai/ds8/ds9-boston\" target=\"_blank\">https://app.wandb.ai/ds8/ds9-boston</a><br/>\n",
       "                Run page: <a href=\"https://app.wandb.ai/ds8/ds9-boston/runs/6azuaq9t\" target=\"_blank\">https://app.wandb.ai/ds8/ds9-boston/runs/6azuaq9t</a><br/>\n",
       "            "
      ],
      "text/plain": [
       "<IPython.core.display.HTML object>"
      ]
     },
     "metadata": {},
     "output_type": "display_data"
    },
    {
     "name": "stderr",
     "output_type": "stream",
     "text": [
      "E0123 13:41:50.408500 29748 jupyter.py:96] Failed to query for notebook name, you can set it manually with the WANDB_NOTEBOOK_NAME environment variable\n"
     ]
    },
    {
     "name": "stdout",
     "output_type": "stream",
     "text": [
      "Train on 270 samples, validate on 134 samples\n",
      "Epoch 1/75\n",
      "270/270 [==============================] - 3s 12ms/sample - loss: 508.7063 - mean_squared_error: 508.7063 - mean_absolute_error: 20.7293 - val_loss: 516.6501 - val_mean_squared_error: 516.6501 - val_mean_absolute_error: 20.4609\n",
      "Epoch 2/75\n",
      "270/270 [==============================] - 0s 822us/sample - loss: 354.4032 - mean_squared_error: 354.4032 - mean_absolute_error: 16.5591 - val_loss: 363.0957 - val_mean_squared_error: 363.0957 - val_mean_absolute_error: 16.2945\n",
      "Epoch 3/75\n",
      "270/270 [==============================] - 0s 854us/sample - loss: 277.8109 - mean_squared_error: 277.8109 - mean_absolute_error: 14.2132 - val_loss: 326.0580 - val_mean_squared_error: 326.0580 - val_mean_absolute_error: 15.1539\n",
      "Epoch 4/75\n",
      "270/270 [==============================] - 0s 874us/sample - loss: 248.4441 - mean_squared_error: 248.4440 - mean_absolute_error: 13.1623 - val_loss: 295.7094 - val_mean_squared_error: 295.7095 - val_mean_absolute_error: 14.2019\n",
      "Epoch 5/75\n",
      "270/270 [==============================] - 0s 862us/sample - loss: 223.3361 - mean_squared_error: 223.3361 - mean_absolute_error: 12.2345 - val_loss: 269.8250 - val_mean_squared_error: 269.8250 - val_mean_absolute_error: 13.3345\n",
      "Epoch 6/75\n",
      "270/270 [==============================] - 0s 1ms/sample - loss: 201.7744 - mean_squared_error: 201.7744 - mean_absolute_error: 11.3860 - val_loss: 247.0130 - val_mean_squared_error: 247.0130 - val_mean_absolute_error: 12.5322\n",
      "Epoch 7/75\n",
      "270/270 [==============================] - 0s 1ms/sample - loss: 182.8565 - mean_squared_error: 182.8565 - mean_absolute_error: 10.6258 - val_loss: 227.2530 - val_mean_squared_error: 227.2530 - val_mean_absolute_error: 11.8051\n",
      "Epoch 8/75\n",
      "270/270 [==============================] - 0s 1ms/sample - loss: 166.6143 - mean_squared_error: 166.6143 - mean_absolute_error: 9.9462 - val_loss: 209.5421 - val_mean_squared_error: 209.5421 - val_mean_absolute_error: 11.1347\n",
      "Epoch 9/75\n",
      "270/270 [==============================] - 0s 1ms/sample - loss: 152.4112 - mean_squared_error: 152.4112 - mean_absolute_error: 9.2970 - val_loss: 194.0214 - val_mean_squared_error: 194.0214 - val_mean_absolute_error: 10.5251\n",
      "Epoch 10/75\n",
      "270/270 [==============================] - 0s 1ms/sample - loss: 140.2055 - mean_squared_error: 140.2055 - mean_absolute_error: 8.7860 - val_loss: 180.3263 - val_mean_squared_error: 180.3263 - val_mean_absolute_error: 9.9803\n",
      "Epoch 11/75\n",
      "270/270 [==============================] - 0s 895us/sample - loss: 129.4128 - mean_squared_error: 129.4128 - mean_absolute_error: 8.3497 - val_loss: 169.0614 - val_mean_squared_error: 169.0614 - val_mean_absolute_error: 9.5110\n",
      "Epoch 12/75\n",
      "270/270 [==============================] - 0s 863us/sample - loss: 120.5544 - mean_squared_error: 120.5544 - mean_absolute_error: 7.9778 - val_loss: 158.6226 - val_mean_squared_error: 158.6226 - val_mean_absolute_error: 9.0660\n",
      "Epoch 13/75\n",
      "270/270 [==============================] - 0s 812us/sample - loss: 112.9117 - mean_squared_error: 112.9117 - mean_absolute_error: 7.6628 - val_loss: 149.4848 - val_mean_squared_error: 149.4848 - val_mean_absolute_error: 8.6599\n",
      "Epoch 14/75\n",
      "270/270 [==============================] - 0s 849us/sample - loss: 106.3947 - mean_squared_error: 106.3947 - mean_absolute_error: 7.3897 - val_loss: 141.7642 - val_mean_squared_error: 141.7642 - val_mean_absolute_error: 8.3111\n",
      "Epoch 15/75\n",
      "270/270 [==============================] - 0s 1ms/sample - loss: 100.8184 - mean_squared_error: 100.8184 - mean_absolute_error: 7.1577 - val_loss: 135.6646 - val_mean_squared_error: 135.6646 - val_mean_absolute_error: 8.0388\n",
      "Epoch 16/75\n",
      "270/270 [==============================] - 0s 1ms/sample - loss: 96.4540 - mean_squared_error: 96.4540 - mean_absolute_error: 6.9589 - val_loss: 129.8064 - val_mean_squared_error: 129.8064 - val_mean_absolute_error: 7.7977\n",
      "Epoch 17/75\n",
      "270/270 [==============================] - 0s 1ms/sample - loss: 92.5998 - mean_squared_error: 92.5998 - mean_absolute_error: 6.7794 - val_loss: 125.0551 - val_mean_squared_error: 125.0551 - val_mean_absolute_error: 7.6028\n",
      "Epoch 18/75\n",
      "270/270 [==============================] - 0s 1ms/sample - loss: 89.4548 - mean_squared_error: 89.4548 - mean_absolute_error: 6.6466 - val_loss: 121.1384 - val_mean_squared_error: 121.1385 - val_mean_absolute_error: 7.4438\n",
      "Epoch 19/75\n",
      "270/270 [==============================] - 0s 1ms/sample - loss: 86.9491 - mean_squared_error: 86.9491 - mean_absolute_error: 6.5383 - val_loss: 117.7267 - val_mean_squared_error: 117.7267 - val_mean_absolute_error: 7.3042\n",
      "Epoch 20/75\n",
      "270/270 [==============================] - 0s 988us/sample - loss: 84.8664 - mean_squared_error: 84.8664 - mean_absolute_error: 6.4526 - val_loss: 114.8358 - val_mean_squared_error: 114.8358 - val_mean_absolute_error: 7.1923\n",
      "Epoch 21/75\n",
      "270/270 [==============================] - 0s 874us/sample - loss: 83.2017 - mean_squared_error: 83.2017 - mean_absolute_error: 6.3824 - val_loss: 112.4298 - val_mean_squared_error: 112.4299 - val_mean_absolute_error: 7.1200\n",
      "Epoch 22/75\n",
      "270/270 [==============================] - 0s 981us/sample - loss: 81.8588 - mean_squared_error: 81.8588 - mean_absolute_error: 6.3413 - val_loss: 110.4802 - val_mean_squared_error: 110.4802 - val_mean_absolute_error: 7.0671\n",
      "Epoch 23/75\n",
      "270/270 [==============================] - 0s 975us/sample - loss: 80.9040 - mean_squared_error: 80.9039 - mean_absolute_error: 6.3180 - val_loss: 108.4608 - val_mean_squared_error: 108.4608 - val_mean_absolute_error: 7.0194\n",
      "Epoch 24/75\n",
      "270/270 [==============================] - 0s 1ms/sample - loss: 79.9543 - mean_squared_error: 79.9544 - mean_absolute_error: 6.2983 - val_loss: 107.1803 - val_mean_squared_error: 107.1803 - val_mean_absolute_error: 6.9930\n",
      "Epoch 25/75\n",
      "270/270 [==============================] - 0s 1ms/sample - loss: 79.3323 - mean_squared_error: 79.3323 - mean_absolute_error: 6.2916 - val_loss: 106.0008 - val_mean_squared_error: 106.0008 - val_mean_absolute_error: 6.9752\n",
      "Epoch 26/75\n",
      "270/270 [==============================] - 0s 954us/sample - loss: 78.7995 - mean_squared_error: 78.7995 - mean_absolute_error: 6.2843 - val_loss: 105.1803 - val_mean_squared_error: 105.1803 - val_mean_absolute_error: 6.9694\n",
      "Epoch 27/75\n",
      "270/270 [==============================] - 0s 993us/sample - loss: 78.4747 - mean_squared_error: 78.4747 - mean_absolute_error: 6.2873 - val_loss: 104.2426 - val_mean_squared_error: 104.2426 - val_mean_absolute_error: 6.9670\n",
      "Epoch 28/75\n",
      "270/270 [==============================] - 0s 1ms/sample - loss: 78.1509 - mean_squared_error: 78.1509 - mean_absolute_error: 6.2922 - val_loss: 103.6239 - val_mean_squared_error: 103.6239 - val_mean_absolute_error: 6.9669\n",
      "Epoch 29/75\n",
      "270/270 [==============================] - 0s 1ms/sample - loss: 77.9140 - mean_squared_error: 77.9140 - mean_absolute_error: 6.2905 - val_loss: 103.1854 - val_mean_squared_error: 103.1854 - val_mean_absolute_error: 6.9669\n",
      "Epoch 30/75\n",
      "270/270 [==============================] - 0s 871us/sample - loss: 77.7647 - mean_squared_error: 77.7647 - mean_absolute_error: 6.2989 - val_loss: 102.5181 - val_mean_squared_error: 102.5181 - val_mean_absolute_error: 6.9679\n",
      "Epoch 31/75\n",
      "270/270 [==============================] - 0s 950us/sample - loss: 77.5924 - mean_squared_error: 77.5924 - mean_absolute_error: 6.3026 - val_loss: 102.1940 - val_mean_squared_error: 102.1940 - val_mean_absolute_error: 6.9690\n",
      "Epoch 32/75\n",
      "270/270 [==============================] - 0s 1ms/sample - loss: 77.5241 - mean_squared_error: 77.5241 - mean_absolute_error: 6.3125 - val_loss: 101.7795 - val_mean_squared_error: 101.7795 - val_mean_absolute_error: 6.9718\n",
      "Epoch 33/75\n",
      "270/270 [==============================] - 0s 933us/sample - loss: 77.4385 - mean_squared_error: 77.4385 - mean_absolute_error: 6.3171 - val_loss: 101.5447 - val_mean_squared_error: 101.5447 - val_mean_absolute_error: 6.9744\n",
      "Epoch 34/75\n",
      "270/270 [==============================] - 0s 1ms/sample - loss: 77.3777 - mean_squared_error: 77.3777 - mean_absolute_error: 6.3233 - val_loss: 101.3208 - val_mean_squared_error: 101.3208 - val_mean_absolute_error: 6.9768\n",
      "Epoch 35/75\n",
      "270/270 [==============================] - 0s 1ms/sample - loss: 77.3816 - mean_squared_error: 77.3816 - mean_absolute_error: 6.3215 - val_loss: 101.3166 - val_mean_squared_error: 101.3166 - val_mean_absolute_error: 6.9764\n",
      "Epoch 36/75\n",
      "270/270 [==============================] - 0s 1ms/sample - loss: 77.1608 - mean_squared_error: 77.1608 - mean_absolute_error: 6.3159 - val_loss: 100.8986 - val_mean_squared_error: 100.8986 - val_mean_absolute_error: 6.9238\n",
      "Epoch 37/75\n",
      "270/270 [==============================] - 0s 1ms/sample - loss: 75.7668 - mean_squared_error: 75.7668 - mean_absolute_error: 6.2216 - val_loss: 99.6553 - val_mean_squared_error: 99.6553 - val_mean_absolute_error: 6.8708\n",
      "Epoch 38/75\n",
      "270/270 [==============================] - 0s 1ms/sample - loss: 74.4911 - mean_squared_error: 74.4911 - mean_absolute_error: 6.1362 - val_loss: 98.3029 - val_mean_squared_error: 98.3029 - val_mean_absolute_error: 6.6930\n",
      "Epoch 39/75\n",
      "270/270 [==============================] - 0s 1ms/sample - loss: 65.6921 - mean_squared_error: 65.6921 - mean_absolute_error: 5.2677 - val_loss: 87.7769 - val_mean_squared_error: 87.7769 - val_mean_absolute_error: 5.7743\n",
      "Epoch 40/75\n",
      "270/270 [==============================] - 0s 1ms/sample - loss: 54.6516 - mean_squared_error: 54.6516 - mean_absolute_error: 4.4556 - val_loss: 80.5884 - val_mean_squared_error: 80.5884 - val_mean_absolute_error: 5.4330\n",
      "Epoch 41/75\n",
      "270/270 [==============================] - 0s 1ms/sample - loss: 50.6009 - mean_squared_error: 50.6009 - mean_absolute_error: 4.1741 - val_loss: 75.6086 - val_mean_squared_error: 75.6086 - val_mean_absolute_error: 5.2665\n",
      "Epoch 42/75\n",
      "270/270 [==============================] - 0s 1ms/sample - loss: 48.0944 - mean_squared_error: 48.0944 - mean_absolute_error: 4.0096 - val_loss: 72.7437 - val_mean_squared_error: 72.7437 - val_mean_absolute_error: 5.1308\n",
      "Epoch 43/75\n",
      "270/270 [==============================] - 0s 1ms/sample - loss: 45.5432 - mean_squared_error: 45.5432 - mean_absolute_error: 3.8546 - val_loss: 69.8716 - val_mean_squared_error: 69.8717 - val_mean_absolute_error: 4.9313\n",
      "Epoch 44/75\n",
      "270/270 [==============================] - 0s 1ms/sample - loss: 43.0681 - mean_squared_error: 43.0681 - mean_absolute_error: 3.6374 - val_loss: 66.6320 - val_mean_squared_error: 66.6320 - val_mean_absolute_error: 4.7561\n",
      "Epoch 45/75\n",
      "270/270 [==============================] - 0s 1ms/sample - loss: 40.8596 - mean_squared_error: 40.8596 - mean_absolute_error: 3.4913 - val_loss: 64.3593 - val_mean_squared_error: 64.3593 - val_mean_absolute_error: 4.6992\n",
      "Epoch 46/75\n",
      "270/270 [==============================] - 0s 913us/sample - loss: 39.1070 - mean_squared_error: 39.1070 - mean_absolute_error: 3.4296 - val_loss: 61.8264 - val_mean_squared_error: 61.8264 - val_mean_absolute_error: 4.5976\n",
      "Epoch 47/75\n",
      "270/270 [==============================] - 0s 883us/sample - loss: 37.0546 - mean_squared_error: 37.0546 - mean_absolute_error: 3.2873 - val_loss: 59.2596 - val_mean_squared_error: 59.2596 - val_mean_absolute_error: 4.5447\n",
      "Epoch 48/75\n",
      "270/270 [==============================] - 0s 878us/sample - loss: 35.4441 - mean_squared_error: 35.4441 - mean_absolute_error: 3.2461 - val_loss: 57.6475 - val_mean_squared_error: 57.6475 - val_mean_absolute_error: 4.5465\n",
      "Epoch 49/75\n",
      "270/270 [==============================] - 0s 1ms/sample - loss: 33.9111 - mean_squared_error: 33.9111 - mean_absolute_error: 3.1746 - val_loss: 55.1340 - val_mean_squared_error: 55.1340 - val_mean_absolute_error: 4.4265\n",
      "Epoch 50/75\n",
      "270/270 [==============================] - 0s 860us/sample - loss: 32.5757 - mean_squared_error: 32.5757 - mean_absolute_error: 3.0942 - val_loss: 53.5928 - val_mean_squared_error: 53.5928 - val_mean_absolute_error: 4.3530\n",
      "Epoch 51/75\n",
      "270/270 [==============================] - 0s 863us/sample - loss: 31.0145 - mean_squared_error: 31.0145 - mean_absolute_error: 2.9919 - val_loss: 51.9645 - val_mean_squared_error: 51.9645 - val_mean_absolute_error: 4.2682\n",
      "Epoch 52/75\n",
      "270/270 [==============================] - 0s 886us/sample - loss: 30.2171 - mean_squared_error: 30.2171 - mean_absolute_error: 3.0215 - val_loss: 50.9355 - val_mean_squared_error: 50.9355 - val_mean_absolute_error: 4.2176\n",
      "Epoch 53/75\n",
      "270/270 [==============================] - 0s 927us/sample - loss: 29.1075 - mean_squared_error: 29.1075 - mean_absolute_error: 2.9559 - val_loss: 49.4178 - val_mean_squared_error: 49.4178 - val_mean_absolute_error: 4.1612\n",
      "Epoch 54/75\n",
      "270/270 [==============================] - 0s 1ms/sample - loss: 27.9107 - mean_squared_error: 27.9107 - mean_absolute_error: 2.9087 - val_loss: 47.5578 - val_mean_squared_error: 47.5578 - val_mean_absolute_error: 4.0682\n",
      "Epoch 55/75\n",
      "270/270 [==============================] - 0s 858us/sample - loss: 26.5561 - mean_squared_error: 26.5561 - mean_absolute_error: 2.7716 - val_loss: 46.0571 - val_mean_squared_error: 46.0571 - val_mean_absolute_error: 3.9600\n",
      "Epoch 56/75\n",
      "270/270 [==============================] - 0s 909us/sample - loss: 25.4051 - mean_squared_error: 25.4051 - mean_absolute_error: 2.6666 - val_loss: 44.6376 - val_mean_squared_error: 44.6376 - val_mean_absolute_error: 3.9136\n",
      "Epoch 57/75\n",
      "270/270 [==============================] - 0s 839us/sample - loss: 24.3155 - mean_squared_error: 24.3155 - mean_absolute_error: 2.5963 - val_loss: 43.1757 - val_mean_squared_error: 43.1757 - val_mean_absolute_error: 3.8046\n",
      "Epoch 58/75\n",
      "270/270 [==============================] - 0s 922us/sample - loss: 23.5469 - mean_squared_error: 23.5469 - mean_absolute_error: 2.5518 - val_loss: 41.6023 - val_mean_squared_error: 41.6023 - val_mean_absolute_error: 3.7640\n",
      "Epoch 59/75\n",
      "270/270 [==============================] - 0s 941us/sample - loss: 22.7606 - mean_squared_error: 22.7606 - mean_absolute_error: 2.5405 - val_loss: 41.3748 - val_mean_squared_error: 41.3748 - val_mean_absolute_error: 3.7965\n",
      "Epoch 60/75\n",
      "270/270 [==============================] - 0s 1ms/sample - loss: 21.6518 - mean_squared_error: 21.6518 - mean_absolute_error: 2.3996 - val_loss: 39.6309 - val_mean_squared_error: 39.6309 - val_mean_absolute_error: 3.6789\n",
      "Epoch 61/75\n",
      "270/270 [==============================] - 0s 597us/sample - loss: 20.8113 - mean_squared_error: 20.8113 - mean_absolute_error: 2.3961 - val_loss: 39.7887 - val_mean_squared_error: 39.7887 - val_mean_absolute_error: 3.6751\n",
      "Epoch 62/75\n",
      "270/270 [==============================] - 0s 981us/sample - loss: 20.0336 - mean_squared_error: 20.0336 - mean_absolute_error: 2.3365 - val_loss: 37.8167 - val_mean_squared_error: 37.8167 - val_mean_absolute_error: 3.5938\n",
      "Epoch 63/75\n",
      "270/270 [==============================] - 0s 1ms/sample - loss: 19.2834 - mean_squared_error: 19.2834 - mean_absolute_error: 2.2810 - val_loss: 36.6147 - val_mean_squared_error: 36.6147 - val_mean_absolute_error: 3.4813\n",
      "Epoch 64/75\n",
      "270/270 [==============================] - 0s 941us/sample - loss: 18.5306 - mean_squared_error: 18.5306 - mean_absolute_error: 2.1992 - val_loss: 36.5471 - val_mean_squared_error: 36.5471 - val_mean_absolute_error: 3.5349\n",
      "Epoch 65/75\n",
      "270/270 [==============================] - 0s 952us/sample - loss: 18.1396 - mean_squared_error: 18.1396 - mean_absolute_error: 2.2392 - val_loss: 34.8736 - val_mean_squared_error: 34.8736 - val_mean_absolute_error: 3.4624\n",
      "Epoch 66/75\n",
      "270/270 [==============================] - 0s 872us/sample - loss: 17.0092 - mean_squared_error: 17.0092 - mean_absolute_error: 2.0609 - val_loss: 34.6315 - val_mean_squared_error: 34.6315 - val_mean_absolute_error: 3.4937\n",
      "Epoch 67/75\n",
      "270/270 [==============================] - 0s 833us/sample - loss: 16.4237 - mean_squared_error: 16.4237 - mean_absolute_error: 2.0379 - val_loss: 34.3151 - val_mean_squared_error: 34.3151 - val_mean_absolute_error: 3.4158\n",
      "Epoch 68/75\n",
      "270/270 [==============================] - 0s 853us/sample - loss: 15.8058 - mean_squared_error: 15.8058 - mean_absolute_error: 1.9828 - val_loss: 32.7672 - val_mean_squared_error: 32.7672 - val_mean_absolute_error: 3.3853\n",
      "Epoch 69/75\n",
      "270/270 [==============================] - 0s 903us/sample - loss: 15.3410 - mean_squared_error: 15.3410 - mean_absolute_error: 1.9490 - val_loss: 32.4740 - val_mean_squared_error: 32.4740 - val_mean_absolute_error: 3.3255\n",
      "Epoch 70/75\n",
      "270/270 [==============================] - 0s 1ms/sample - loss: 14.7138 - mean_squared_error: 14.7138 - mean_absolute_error: 1.8783 - val_loss: 31.7107 - val_mean_squared_error: 31.7107 - val_mean_absolute_error: 3.3484\n",
      "Epoch 71/75\n",
      "270/270 [==============================] - 0s 658us/sample - loss: 14.1885 - mean_squared_error: 14.1885 - mean_absolute_error: 1.8819 - val_loss: 31.7857 - val_mean_squared_error: 31.7857 - val_mean_absolute_error: 3.3088\n",
      "Epoch 72/75\n",
      "270/270 [==============================] - 0s 645us/sample - loss: 13.8201 - mean_squared_error: 13.8201 - mean_absolute_error: 1.8368 - val_loss: 32.1395 - val_mean_squared_error: 32.1395 - val_mean_absolute_error: 3.4320\n",
      "Epoch 73/75\n",
      "270/270 [==============================] - 0s 961us/sample - loss: 13.7962 - mean_squared_error: 13.7962 - mean_absolute_error: 1.9514 - val_loss: 31.1033 - val_mean_squared_error: 31.1033 - val_mean_absolute_error: 3.2795\n",
      "Epoch 74/75\n",
      "270/270 [==============================] - 0s 943us/sample - loss: 13.1661 - mean_squared_error: 13.1661 - mean_absolute_error: 1.8474 - val_loss: 30.1149 - val_mean_squared_error: 30.1149 - val_mean_absolute_error: 3.3160\n",
      "Epoch 75/75\n",
      "270/270 [==============================] - 0s 972us/sample - loss: 12.5603 - mean_squared_error: 12.5603 - mean_absolute_error: 1.7673 - val_loss: 29.1687 - val_mean_squared_error: 29.1687 - val_mean_absolute_error: 3.2244\n"
     ]
    },
    {
     "data": {
      "text/plain": [
       "<tensorflow.python.keras.callbacks.History at 0x22652899b70>"
      ]
     },
     "execution_count": 13,
     "metadata": {},
     "output_type": "execute_result"
    }
   ],
   "source": [
    "wandb.init(project=\"ds9-boston\", entity=\"ds8\") #Initializes and Experiment\n",
    "\n",
    "# Important Hyperparameters\n",
    "X =  x_train\n",
    "y =  y_train\n",
    "\n",
    "inputs = X.shape[1]\n",
    "wandb.config.epochs = 75\n",
    "wandb.config.batch_size = 10\n",
    "\n",
    "from tensorflow.keras.optimizers import Adam\n",
    "adam = Adam()\n",
    "\n",
    "\n",
    "# Create Model\n",
    "model = Sequential()\n",
    "model.add(Dense(64, activation='relu', input_shape=(inputs,)))\n",
    "model.add(Dense(64, activation='relu'))\n",
    "model.add(Dense(64, activation='relu'))\n",
    "model.add(Dense(64, activation='sigmoid'))\n",
    "model.add(Dense(1))\n",
    "# Compile Model\n",
    "model.compile(optimizer='adam', loss='mse', metrics=['mse', 'mae'])\n",
    "\n",
    "# Fit Model\n",
    "model.fit(X, y, \n",
    "          validation_split=0.33, \n",
    "          epochs=wandb.config.epochs, \n",
    "          batch_size=wandb.config.batch_size, \n",
    "          callbacks=[WandbCallback()]\n",
    "         )"
   ]
  },
  {
   "cell_type": "markdown",
   "metadata": {},
   "source": [
    "## Challenge\n",
    "\n",
    "You will be expected to use Weights & Biases to try to tune your model during your module assignment today. "
   ]
  },
  {
   "cell_type": "markdown",
   "metadata": {},
   "source": [
    "# Hyperparameters with RandomSearchCV (Learn)"
   ]
  },
  {
   "cell_type": "markdown",
   "metadata": {},
   "source": [
    "## Overview\n",
    "\n",
    "Basically `GridSearchCV` takes forever. You'll want to adopt a slightly more sophiscated strategy."
   ]
  },
  {
   "cell_type": "markdown",
   "metadata": {},
   "source": [
    "## Follow Along"
   ]
  },
  {
   "cell_type": "code",
   "execution_count": 9,
   "metadata": {},
   "outputs": [],
   "source": [
    "sweep_config = {\n",
    "    'method': 'random',\n",
    "    'parameters': {\n",
    "        'learning_rate': {'distribution': 'normal'},\n",
    "        'epochs': {'distribution': 'uniform',\n",
    "                    'min': 100,\n",
    "                    'max': 1000},\n",
    "        'batch_size': {'distribution': 'uniform',\n",
    "            'min': 10,\n",
    "            'max': 400}\n",
    "    }\n",
    "}"
   ]
  },
  {
   "cell_type": "code",
   "execution_count": 13,
   "metadata": {},
   "outputs": [
    {
     "name": "stdout",
     "output_type": "stream",
     "text": [
      "Create sweep with ID: huau0u9r\n",
      "Sweep URL: https://app.wandb.ai/lambda-ds7/boston/sweeps/huau0u9r\n"
     ]
    }
   ],
   "source": [
    "sweep_id = wandb.sweep(sweep_config)"
   ]
  },
  {
   "cell_type": "code",
   "execution_count": 11,
   "metadata": {},
   "outputs": [],
   "source": [
    "import wandb\n",
    "from wandb.keras import WandbCallback\n",
    "#Initializes and Experiment\n",
    "\n",
    "from tensorflow.keras.optimizers import Adam\n",
    "\n",
    "# Important Hyperparameters\n",
    "X =  x_train\n",
    "y =  y_train\n",
    "\n",
    "inputs = X.shape[1]\n",
    "\n",
    "def train():\n",
    "    \n",
    "    wandb.init(project=\"boston\", entity=\"lambda-ds7\") \n",
    "    \n",
    "    config = wandb.config\n",
    "\n",
    "    # Create Model\n",
    "    model = Sequential()\n",
    "    model.add(Dense(64, activation='relu', input_shape=(inputs,)))\n",
    "    model.add(Dense(64, activation='relu'))\n",
    "    model.add(Dense(64, activation='relu'))\n",
    "    model.add(Dense(1))\n",
    "\n",
    "    # Optimizer \n",
    "    adam = Adam(learning_rate=config.learning_rate)\n",
    "\n",
    "    # Compile Model\n",
    "    model.compile(optimizer=adam, loss='mse', metrics=['mse', 'mae'])\n",
    "\n",
    "    # Fit Model\n",
    "    model.fit(X, y, \n",
    "              validation_split=0.33, \n",
    "              epochs=config.epochs, \n",
    "              batch_size=config.batch_size, \n",
    "              callbacks=[WandbCallback()]\n",
    "             )"
   ]
  },
  {
   "cell_type": "code",
   "execution_count": null,
   "metadata": {},
   "outputs": [
    {
     "name": "stdout",
     "output_type": "stream",
     "text": [
      "wandb: Agent Starting Run: 2g77kp6k with config:\n",
      "\tbatch_size: 308.503347845309\n",
      "\tepochs: 704.9395850579006\n",
      "\tlearning_rate: 1.480005523005428\n",
      "wandb: Agent Started Run: 2g77kp6k\n"
     ]
    },
    {
     "data": {
      "text/html": [
       "\n",
       "                Logging results to <a href=\"https://wandb.com\" target=\"_blank\">Weights & Biases</a> <a href=\"https://docs.wandb.com/integrations/jupyter.html\" target=\"_blank\">(Documentation)</a>.<br/>\n",
       "                Project page: <a href=\"https://app.wandb.ai/lambda-ds7/boston\" target=\"_blank\">https://app.wandb.ai/lambda-ds7/boston</a><br/>\n",
       "                Run page: <a href=\"https://app.wandb.ai/lambda-ds7/boston/runs/t4w9l4ye\" target=\"_blank\">https://app.wandb.ai/lambda-ds7/boston/runs/t4w9l4ye</a><br/>\n",
       "            "
      ],
      "text/plain": [
       "<IPython.core.display.HTML object>"
      ]
     },
     "metadata": {},
     "output_type": "display_data"
    }
   ],
   "source": [
    "wandb.agent(sweep_id, function=train)"
   ]
  },
  {
   "cell_type": "markdown",
   "metadata": {},
   "source": [
    "## Challenge\n",
    "\n",
    "Try to apply RandomSearchCV to your module project today. "
   ]
  },
  {
   "cell_type": "markdown",
   "metadata": {},
   "source": [
    "# Review\n",
    "* <a href=\"#p1\">Part 1</a>: Describe the major hyperparemeters to tune\n",
    "    - Activation Functions\n",
    "    - Optimizer\n",
    "    - Number of Layers\n",
    "    - Number of Neurons\n",
    "    - Batch Size\n",
    "    - Dropout Regulaization\n",
    "    - Learning Rate\n",
    "    - Number of Epochs\n",
    "    - and many more\n",
    "* <a href=\"#p2\">Part 2</a>: Implement an experiment tracking framework\n",
    "    - Weights & Biases\n",
    "    - Comet.ml\n",
    "    - By Hand / GridSearch\n",
    "* <a href=\"#p3\">Part 3</a>: Search the hyperparameter space using RandomSearch\n",
    "    - Sklearn still useful (haha)\n",
    "    - Integration with Wieghts & Biases\n",
    "* <a href=\"#p4\">Part 4</a>: Discuss emerging hyperparameter tuning strategies\n",
    "    - Bayesian Optimization\n",
    "    - Hyperopt\n",
    "    - Genetic Evolution"
   ]
  },
  {
   "cell_type": "markdown",
   "metadata": {},
   "source": [
    "# Sources"
   ]
  },
  {
   "cell_type": "markdown",
   "metadata": {},
   "source": [
    "## Additional Reading\n",
    "- https://machinelearningmastery.com/grid-search-hyperparameters-deep-learning-models-python-keras/\n",
    "- https://blog.floydhub.com/guide-to-hyperparameters-search-for-deep-learning-models/\n",
    "- https://machinelearningmastery.com/dropout-regularization-deep-learning-models-keras/\n",
    "- https://machinelearningmastery.com/introduction-to-weight-constraints-to-reduce-generalization-error-in-deep-learning/\n",
    "- https://machinelearningmastery.com/how-to-configure-the-number-of-layers-and-nodes-in-a-neural-network/"
   ]
  }
 ],
 "metadata": {
  "kernelspec": {
   "display_name": "U4-S2-NNF",
   "language": "python",
   "name": "u4-s2-nnf"
  },
  "language_info": {
   "codemirror_mode": {
    "name": "ipython",
    "version": 3
   },
   "file_extension": ".py",
   "mimetype": "text/x-python",
   "name": "python",
   "nbconvert_exporter": "python",
   "pygments_lexer": "ipython3",
   "version": "3.7.0"
  }
 },
 "nbformat": 4,
 "nbformat_minor": 4
}
